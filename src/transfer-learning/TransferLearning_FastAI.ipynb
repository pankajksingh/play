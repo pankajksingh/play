{
  "nbformat": 4,
  "nbformat_minor": 0,
  "metadata": {
    "colab": {
      "name": "TransferLearning_FastAI.ipynb",
      "provenance": [],
      "collapsed_sections": [],
      "toc_visible": true
    },
    "kernelspec": {
      "name": "python3",
      "display_name": "Python 3"
    },
    "language_info": {
      "name": "python"
    },
    "gpuClass": "standard",
    "accelerator": "GPU"
  },
  "cells": [
    {
      "cell_type": "markdown",
      "source": [
        "# Efficient Deep Learning using Transfer Learning\n"
      ],
      "metadata": {
        "id": "ATMvwjY5AG_F"
      }
    },
    {
      "cell_type": "markdown",
      "source": [
        "## Transfer Learning "
      ],
      "metadata": {
        "id": "iZH5Sop1kiTi"
      }
    },
    {
      "cell_type": "markdown",
      "source": [
        "### Deep Learning as Function Approximation\n",
        "\n",
        "Last time we introduced functions which is a very general concept and can help us solve a number of problems. In this world, we look at our data as input(x) and output(y) and try to find a mapping from x to y.\n",
        "\n",
        "\n",
        "|Scenario|Data=(x,y)|Function f s.t. y=f(x)|\n",
        "|---|---|---|\n",
        "| Best fit line| 2D points(x,y)  | y=f(x)  |\n",
        "| Image classification | pixels representing picture  | image-class = f(image)   |\n",
        "| Audio2Text  | wave representing utterances  | words = f(audio-wave)  |\n",
        "| Translation  | sentences in multiple languages  | french-sentence = f(english-sentence)  |\n",
        " \n",
        " We can write functions in 2 ways.\n",
        " * Manually : Humans write the logic in function body.\n",
        " * ML way   : We provide data to a Deep Learning machine and it writes the function for us.\n",
        "\n",
        "\\\n",
        "\n",
        "\\\n",
        "\n",
        " ![Dl-Model](https://drive.google.com/uc?export=view&id=1Tiwy1JJdP3Mu6URLVn1xjL0r8JQ0hbcv)"
      ],
      "metadata": {
        "id": "DOHwWRcN6U0v"
      }
    },
    {
      "cell_type": "markdown",
      "source": [
        "### Questions\n",
        "* What do functions learn?\n",
        "* How do we choose architecture for learning?\n",
        "* How can we efficiently learn?\n",
        "\n",
        "### Short Answers\n",
        "* Functions learn weights. For e.g. in case of best fit line, we need to find y=f(x). We know a line is represented as y=mx+c . So our weights are w=[m,c]\n",
        "* Architecture is chosen based on the domain. For e.g. vision problems do well with CNN based models like ResNet. Transformer models are used heavily in text domain.\n",
        "* Efficient learning can be achieved by function reuse, not unlike the libraries we use in our software development. \n",
        "\n",
        "In fact, understanding what functions learn gives us great insights into **efficient learning**. \n",
        "* Efficiency in compute \n",
        "* Efficiency in dev time"
      ],
      "metadata": {
        "id": "sMzXXOqd8vZL"
      }
    },
    {
      "cell_type": "markdown",
      "source": [
        "### Transfer Learning - Motivation \n",
        "\n",
        "Zeiler and Fergus looked at various layers and found a way to visualize weights and activations to understand what the cnn model is learning.\n",
        "We now look at a trained neural network on image classification task. Instead of looking at weights as a collection of numbers, we visualize these by looking at feature activation and corresponding images.\n",
        "\n",
        "\n",
        "* Layer 1-2\n",
        "![Layer1-2](https://drive.google.com/uc?export=view&id=15PQuA7c0uqcPb_CmpcWpT38gT8QxRbNl)\n",
        "\n",
        "\n",
        "* Layer 3\n",
        "![Layer3](https://drive.google.com/uc?export=view&id=1wDWyvPs5aHOdcxJDUw-dzsPEQhJSFQGU)\n",
        "\n",
        "\n",
        "* Layer 4-5\n",
        "![Layer4-5](https://drive.google.com/uc?export=view&id=1PWDZoUEBaHCkvq7vTCxw1Z06dqzqFxBq)\n",
        "\n",
        "\n",
        "\\\n",
        "\\\n",
        "We realize that hidden layers progressively capture complex features as we move from input to output. This also means that earlier layers can be useful in many different tasks. For e.g. a model trained on image classification can be re-used for digit(1-9) recoginition. This gives us the intuition to **Transfer Learning**.\n",
        "\n"
      ],
      "metadata": {
        "id": "y7m_K-qdLGhY"
      }
    },
    {
      "cell_type": "markdown",
      "source": [
        "### Transfer Learning - Concept\n",
        "A model is composed of body & head. We need to take the body of pre-trained model & attach a new head for our specific task.\n",
        "\n",
        "![Transfer Learning](https://drive.google.com/uc?export=view&id=1XTfY6_piQdzEm0nmhec6uKZMMTitIVOf)\n",
        "\n",
        "* Pull a pre-trained model from repository.\n",
        "* Remove the head and attach a new head to the model body.\n",
        "* Use task specific dataset and use it to train only the new head.\n",
        "* Unlock the pretrained body and train the complete model. This is called fine-tuning.\n",
        "\n",
        "Transfer learning should remind us of code reuse. We get efficient by reusing libraries. Another intuition from code-refactoring is that later layers will change more for a novel task. This intuition is exploited via discriminative learning rate where we learn slower for earlier layers. \n",
        "\n",
        "Before we move forward, let us look at higher level deep learning libray **FastAI**\n"
      ],
      "metadata": {
        "id": "WyxibRS2TkP4"
      }
    },
    {
      "cell_type": "markdown",
      "source": [
        "## FastAI\n",
        "[FastAI](https://github.com/fastai/fastai) is a high level deep learning library that allows us to solve real life problems efficiently. It is built on top of PyTorch. "
      ],
      "metadata": {
        "id": "2jZNBrDflV1X"
      }
    },
    {
      "cell_type": "markdown",
      "source": [
        "### FastAI - Layered API\n",
        "Fast AI offers a layered api that provides friendly abstractions for common use cases through high-level api. It also provides mid-level and low-level apis that give us great control for more complex and non-standard use cases.\n",
        "\n",
        "![FastAI Layered Api](https://drive.google.com/uc?export=view&id=13pZS238UHmqYPP_iA41J1ZscVXMx8fEl)\n",
        "\n"
      ],
      "metadata": {
        "id": "kI-OHycCmDyO"
      }
    },
    {
      "cell_type": "markdown",
      "source": [
        "### FastAI - Object model for High level API\n",
        "\n",
        "Training in deep learning requires following high level components.\n",
        "* **DataLoader** : How to load data from files and send it in a format that deep learning machine can consume?\n",
        "* **Model** : Provides a framework or architecture. Once learning is complete, we say that the model has learnt for the task.\n",
        "* **Loss** : Loss is a way for evaluating the quality of model. This acts as a feedback system to progressively improve the model.\n",
        "\n",
        "FastAI's *Learner* abstraction brings these components together. Let us look at Learner and DataLoader.\n",
        "\n",
        "\\\n",
        "\n",
        "\\\n",
        "\n",
        "![FastAI Object Model for High Level API](https://drive.google.com/uc?export=view&id=1FYT5fA1uRaFmsq5K8QFyGA4yoeusDiMI)\n",
        "\n",
        "\n"
      ],
      "metadata": {
        "id": "GwFzdOL7qlY8"
      }
    },
    {
      "cell_type": "markdown",
      "source": [
        "### Transfer Learning Example : Sentiment Analysis using FastAI\n",
        "\n",
        "Transfer learning works very well both on vision an textual tasks. \n",
        "We will do sentiment analysis on text data using Transfer Learning. We will use FastAI which is built on top of PyTorch. Our pre-trained model is AWD_LSTM.\n"
      ],
      "metadata": {
        "id": "w0v5xT0DVNiF"
      }
    },
    {
      "cell_type": "code",
      "source": [
        "#hide\n",
        "! [ -e /content ] && pip install -Uqq fastbook\n",
        "import fastbook\n",
        "fastbook.setup_book()"
      ],
      "metadata": {
        "colab": {
          "base_uri": "https://localhost:8080/"
        },
        "id": "wIstsghP-dKh",
        "outputId": "fa9dbe41-463d-4f5e-c3c6-e3cbc3c70550"
      },
      "execution_count": 2,
      "outputs": [
        {
          "output_type": "stream",
          "name": "stdout",
          "text": [
            "\u001b[K     |████████████████████████████████| 719 kB 6.8 MB/s \n",
            "\u001b[K     |████████████████████████████████| 4.7 MB 58.5 MB/s \n",
            "\u001b[K     |████████████████████████████████| 365 kB 68.1 MB/s \n",
            "\u001b[K     |████████████████████████████████| 1.2 MB 62.1 MB/s \n",
            "\u001b[K     |████████████████████████████████| 101 kB 14.0 MB/s \n",
            "\u001b[K     |████████████████████████████████| 115 kB 78.8 MB/s \n",
            "\u001b[K     |████████████████████████████████| 212 kB 75.7 MB/s \n",
            "\u001b[K     |████████████████████████████████| 141 kB 73.9 MB/s \n",
            "\u001b[K     |████████████████████████████████| 596 kB 72.5 MB/s \n",
            "\u001b[K     |████████████████████████████████| 127 kB 68.9 MB/s \n",
            "\u001b[K     |████████████████████████████████| 6.6 MB 51.5 MB/s \n",
            "\u001b[?25hMounted at /content/gdrive\n"
          ]
        }
      ]
    },
    {
      "cell_type": "code",
      "source": [
        "#hide\n",
        "from fastbook import *"
      ],
      "metadata": {
        "id": "zhXHH-aC-jQn"
      },
      "execution_count": 3,
      "outputs": []
    },
    {
      "cell_type": "code",
      "execution_count": 4,
      "metadata": {
        "colab": {
          "base_uri": "https://localhost:8080/",
          "height": 54
        },
        "id": "p75q7Z_T-ELq",
        "outputId": "a8bfbaf4-738c-4fe9-b3d2-373ea1766733"
      },
      "outputs": [
        {
          "output_type": "display_data",
          "data": {
            "text/plain": [
              "<IPython.core.display.HTML object>"
            ],
            "text/html": [
              "\n",
              "<style>\n",
              "    /* Turns off some styling */\n",
              "    progress {\n",
              "        /* gets rid of default border in Firefox and Opera. */\n",
              "        border: none;\n",
              "        /* Needs to be in here for Safari polyfill so background images work as expected. */\n",
              "        background-size: auto;\n",
              "    }\n",
              "    progress:not([value]), progress:not([value])::-webkit-progress-bar {\n",
              "        background: repeating-linear-gradient(45deg, #7e7e7e, #7e7e7e 10px, #5c5c5c 10px, #5c5c5c 20px);\n",
              "    }\n",
              "    .progress-bar-interrupted, .progress-bar-interrupted::-webkit-progress-bar {\n",
              "        background: #F44336;\n",
              "    }\n",
              "</style>\n"
            ]
          },
          "metadata": {}
        },
        {
          "output_type": "display_data",
          "data": {
            "text/plain": [
              "<IPython.core.display.HTML object>"
            ],
            "text/html": [
              "\n",
              "    <div>\n",
              "      <progress value='144441344' class='' max='144440600' style='width:300px; height:20px; vertical-align: middle;'></progress>\n",
              "      100.00% [144441344/144440600 00:03&lt;00:00]\n",
              "    </div>\n",
              "    "
            ]
          },
          "metadata": {}
        },
        {
          "output_type": "display_data",
          "data": {
            "text/plain": [
              "<IPython.core.display.HTML object>"
            ],
            "text/html": [
              "\n",
              "<style>\n",
              "    /* Turns off some styling */\n",
              "    progress {\n",
              "        /* gets rid of default border in Firefox and Opera. */\n",
              "        border: none;\n",
              "        /* Needs to be in here for Safari polyfill so background images work as expected. */\n",
              "        background-size: auto;\n",
              "    }\n",
              "    progress:not([value]), progress:not([value])::-webkit-progress-bar {\n",
              "        background: repeating-linear-gradient(45deg, #7e7e7e, #7e7e7e 10px, #5c5c5c 10px, #5c5c5c 20px);\n",
              "    }\n",
              "    .progress-bar-interrupted, .progress-bar-interrupted::-webkit-progress-bar {\n",
              "        background: #F44336;\n",
              "    }\n",
              "</style>\n"
            ]
          },
          "metadata": {}
        },
        {
          "output_type": "display_data",
          "data": {
            "text/plain": [
              "<IPython.core.display.HTML object>"
            ],
            "text/html": [
              ""
            ]
          },
          "metadata": {}
        },
        {
          "output_type": "execute_result",
          "data": {
            "text/plain": [
              "Path('/root/.fastai/data/imdb')"
            ]
          },
          "metadata": {},
          "execution_count": 4
        }
      ],
      "source": [
        "#Load IMDB dataset (movie_review -> sentiment)\n",
        "from fastai.text.all import *\n",
        "path = untar_data(URLs.IMDB)\n",
        "dls = TextDataLoaders.from_folder(path, valid='test')\n",
        "path_str = path.as_posix()\n",
        "\n",
        "path"
      ]
    },
    {
      "cell_type": "code",
      "source": [
        "#Sentiment analysis movie review data, source & destination\n",
        "print(\"Data downloaded from {0} to {1}\".format(URLs.IMDB, path_str))"
      ],
      "metadata": {
        "colab": {
          "base_uri": "https://localhost:8080/"
        },
        "id": "z9ZWPtn0wEAi",
        "outputId": "5aba7f07-d525-4778-f835-8cf3305fe9f6"
      },
      "execution_count": 9,
      "outputs": [
        {
          "output_type": "stream",
          "name": "stdout",
          "text": [
            "Data downloaded from https://s3.amazonaws.com/fast-ai-nlp/imdb.tgz to /root/.fastai/data/imdb\n"
          ]
        }
      ]
    },
    {
      "cell_type": "code",
      "source": [
        "#Destination folders\n",
        "!ls $path_str"
      ],
      "metadata": {
        "colab": {
          "base_uri": "https://localhost:8080/"
        },
        "id": "widB0O1B_FWP",
        "outputId": "4536d7f1-7449-4e93-9e8f-167b16488864"
      },
      "execution_count": 10,
      "outputs": [
        {
          "output_type": "stream",
          "name": "stdout",
          "text": [
            "imdb.vocab  README  test  tmp_clas  tmp_lm  train  unsup\n"
          ]
        }
      ]
    },
    {
      "cell_type": "code",
      "source": [
        "#review sample text\n",
        "dls.show_batch()"
      ],
      "metadata": {
        "colab": {
          "base_uri": "https://localhost:8080/",
          "height": 644
        },
        "id": "YNi9CqQGASXt",
        "outputId": "5812e1f4-a1f9-47e2-83a2-d3a9e1139a94"
      },
      "execution_count": 11,
      "outputs": [
        {
          "output_type": "display_data",
          "data": {
            "text/plain": [
              "<IPython.core.display.HTML object>"
            ],
            "text/html": [
              "<table border=\"1\" class=\"dataframe\">\n",
              "  <thead>\n",
              "    <tr style=\"text-align: right;\">\n",
              "      <th></th>\n",
              "      <th>text</th>\n",
              "      <th>category</th>\n",
              "    </tr>\n",
              "  </thead>\n",
              "  <tbody>\n",
              "    <tr>\n",
              "      <th>0</th>\n",
              "      <td>xxbos xxmaj match 1 : xxmaj tag xxmaj team xxmaj table xxmaj match xxmaj bubba xxmaj ray and xxmaj spike xxmaj dudley vs xxmaj eddie xxmaj guerrero and xxmaj chris xxmaj benoit xxmaj bubba xxmaj ray and xxmaj spike xxmaj dudley started things off with a xxmaj tag xxmaj team xxmaj table xxmaj match against xxmaj eddie xxmaj guerrero and xxmaj chris xxmaj benoit . xxmaj according to the rules of the match , both opponents have to go through tables in order to get the win . xxmaj benoit and xxmaj guerrero heated up early on by taking turns hammering first xxmaj spike and then xxmaj bubba xxmaj ray . a xxmaj german xxunk by xxmaj benoit to xxmaj bubba took the wind out of the xxmaj dudley brother . xxmaj spike tried to help his brother , but the referee restrained him while xxmaj benoit and xxmaj guerrero</td>\n",
              "      <td>pos</td>\n",
              "    </tr>\n",
              "    <tr>\n",
              "      <th>1</th>\n",
              "      <td>xxbos * * attention xxmaj spoilers * * \\n\\n xxmaj first of all , let me say that xxmaj rob xxmaj roy is one of the best films of the 90 's . xxmaj it was an amazing achievement for all those involved , especially the acting of xxmaj liam xxmaj neeson , xxmaj jessica xxmaj lange , xxmaj john xxmaj hurt , xxmaj brian xxmaj cox , and xxmaj tim xxmaj roth . xxmaj michael xxmaj canton xxmaj jones painted a wonderful portrait of the honor and dishonor that men can represent in themselves . xxmaj but alas … \\n\\n it constantly , and unfairly gets compared to \" braveheart \" . xxmaj these are two entirely different films , probably only similar in the fact that they are both about xxmaj scots in historical xxmaj scotland . xxmaj yet , this comparison frequently bothers me because it seems</td>\n",
              "      <td>pos</td>\n",
              "    </tr>\n",
              "    <tr>\n",
              "      <th>2</th>\n",
              "      <td>xxbos xxmaj raising xxmaj victor xxmaj vargas : a xxmaj review \\n\\n xxmaj you know , xxmaj raising xxmaj victor xxmaj vargas is like sticking your hands into a big , steaming bowl of oatmeal . xxmaj it 's warm and gooey , but you 're not sure if it feels right . xxmaj try as i might , no matter how warm and gooey xxmaj raising xxmaj victor xxmaj vargas became i was always aware that something did n't quite feel right . xxmaj victor xxmaj vargas suffers from a certain overconfidence on the director 's part . xxmaj apparently , the director thought that the ethnic backdrop of a xxmaj latino family on the lower east side , and an idyllic storyline would make the film critic proof . xxmaj he was right , but it did n't fool me . xxmaj raising xxmaj victor xxmaj vargas is</td>\n",
              "      <td>neg</td>\n",
              "    </tr>\n",
              "    <tr>\n",
              "      <th>3</th>\n",
              "      <td>xxbos i have never seen any of xxmaj spike xxmaj lee 's prior films , as their trailers never caught my interest . i have seen , and admire xxmaj denzel xxmaj washington , and xxmaj jodie xxmaj foster 's work , and have several of their dvds . i was , however , entirely disappointed with this movie . xxmaj if this film is any indication of xxmaj spike xxmaj lee 's ability as a director , my advice would be to \" get a job \" , and stop wasting the time and talent of others . \\n\\n i wonder if some of the other imdb commentators watched the same movie that xxmaj i 'd seen . i can only assume , from their sappy lovelorn reviews , that their adoration of xxmaj spike xxmaj lee has blinded them to the banality of this piece of work .</td>\n",
              "      <td>neg</td>\n",
              "    </tr>\n",
              "    <tr>\n",
              "      <th>4</th>\n",
              "      <td>xxbos i felt duty bound to watch the 1983 xxmaj timothy xxmaj dalton / xxmaj zelah xxmaj clarke adaptation of \" jane xxmaj eyre , \" because xxmaj i 'd just written an article about the 2006 xxup bbc \" jane xxmaj eyre \" for xxunk . \\n\\n xxmaj so , i approached watching this the way xxmaj i 'd approach doing homework . \\n\\n i was irritated at first . xxmaj the lighting in this version is bad . xxmaj everyone / everything is washed out in a bright white xxunk light that , in some scenes , casts shadows on the wall behind the characters . \\n\\n xxmaj and the sound is poorly recorded . i felt like i was listening to a high school play . \\n\\n xxmaj and the pancake make - up is way too heavy . \\n\\n xxmaj and the sets do n't fully</td>\n",
              "      <td>pos</td>\n",
              "    </tr>\n",
              "    <tr>\n",
              "      <th>5</th>\n",
              "      <td>xxbos xxmaj pier xxmaj paolo xxmaj pasolini , or xxmaj pee - pee - pee as i prefer to call him ( due to his love of showing male genitals ) , is perhaps xxup the most overrated xxmaj european xxmaj marxist director - and they are thick on the ground . xxmaj how anyone can see \" art \" in this messy , cheap sex - romp concoction is beyond me . xxmaj some of the \" stories \" here could have come straight out of a soft - core porn film , and i am not even so much referring to the nudity but the simplistic and banal , often pointless stories . xxmaj anyone who enjoyed this relatively watchable but dumb oddity should really sink his teeth into the \" der xxmaj xxunk \" soft - porn xxmaj german 70s movie series , because that 's what</td>\n",
              "      <td>neg</td>\n",
              "    </tr>\n",
              "    <tr>\n",
              "      <th>6</th>\n",
              "      <td>xxbos xxmaj around the late 1970 's , animator xxmaj don xxmaj bluth , frustrated with the output his company , xxmaj disney was churning , defected from the xxmaj mouse xxmaj house to form his own studio . xxmaj his first production , xxup the xxup secret xxup of xxup nimh , was a brilliant feature that still holds up well to this day . xxmaj this was followed by xxup an xxmaj american xxup tail and xxup the xxup land xxup before xxup time , both of which were made under the involvement of xxmaj steven xxmaj spielberg and were commercially successful . xxmaj although none of those two films had the dark adult appeal of xxup nimh , they still are very charming , enjoyable features for both children and grown - ups . xxmaj but before long , xxmaj don xxmaj bluth had his first major</td>\n",
              "      <td>neg</td>\n",
              "    </tr>\n",
              "    <tr>\n",
              "      <th>7</th>\n",
              "      <td>xxbos xxrep 6 * xxup warning : xxup may xxup contain xxup spoilers xxrep 14 * \\n\\n xxmaj so who are these \" mystery xxmaj men ? \" xxmaj simply put , the xxmaj mystery xxmaj men are a group of sub - heroes desperately trying to live out their adolescent fantasy lives while botching both their real identities and their super identities . xxmaj the xxmaj shoveller ( bill xxmaj macy ) works construction during the day , and at night , leaves his wife and kids at home while he cruises the street looking for crimes to tackle with his extraordinary and unique xxmaj shovel - fighting style . xxmaj the xxmaj blue xxmaj raja ( hank xxmaj azaria ) sells silverware to newlyweds by day and flings xxunk at crackpot villians by night , if his mom is n't keeping him busy with the latest snooping .</td>\n",
              "      <td>pos</td>\n",
              "    </tr>\n",
              "    <tr>\n",
              "      <th>8</th>\n",
              "      <td>xxbos xxmaj although i love this movie , i can barely watch it , it is so real . xxmaj so , i put it on tonight and hid behind my bank of computers . i remembered it vividly , but just wanted to see if i could find something i had n't seen before … … .. i did n't : that 's because it 's so real to me . \\n\\n xxmaj another \" user \" wrote the ages of the commentators should be shown with their summary . xxmaj i 'm all for that ! xxmaj it 's absolutely obvious that most of these people who 've made comments about \" midnight xxmaj cowboy \" may not have been born when it was released . xxmaj they are mentioning other movies xxmaj jon xxmaj voight and xxmaj dustin xxmaj hoffman have appeared in , at a later</td>\n",
              "      <td>pos</td>\n",
              "    </tr>\n",
              "  </tbody>\n",
              "</table>"
            ]
          },
          "metadata": {}
        }
      ]
    },
    {
      "cell_type": "code",
      "source": [
        "#define learner with data-loader & pre-trained text model\n",
        "learn = text_classifier_learner(dls, AWD_LSTM, drop_mult=0.5, metrics=accuracy)"
      ],
      "metadata": {
        "colab": {
          "base_uri": "https://localhost:8080/",
          "height": 37
        },
        "id": "QqkRzigOAaYQ",
        "outputId": "9d399857-499e-4f4a-85a9-6e5407338e69"
      },
      "execution_count": 12,
      "outputs": [
        {
          "output_type": "display_data",
          "data": {
            "text/plain": [
              "<IPython.core.display.HTML object>"
            ],
            "text/html": [
              "\n",
              "<style>\n",
              "    /* Turns off some styling */\n",
              "    progress {\n",
              "        /* gets rid of default border in Firefox and Opera. */\n",
              "        border: none;\n",
              "        /* Needs to be in here for Safari polyfill so background images work as expected. */\n",
              "        background-size: auto;\n",
              "    }\n",
              "    progress:not([value]), progress:not([value])::-webkit-progress-bar {\n",
              "        background: repeating-linear-gradient(45deg, #7e7e7e, #7e7e7e 10px, #5c5c5c 10px, #5c5c5c 20px);\n",
              "    }\n",
              "    .progress-bar-interrupted, .progress-bar-interrupted::-webkit-progress-bar {\n",
              "        background: #F44336;\n",
              "    }\n",
              "</style>\n"
            ]
          },
          "metadata": {}
        },
        {
          "output_type": "display_data",
          "data": {
            "text/plain": [
              "<IPython.core.display.HTML object>"
            ],
            "text/html": [
              "\n",
              "    <div>\n",
              "      <progress value='105070592' class='' max='105067061' style='width:300px; height:20px; vertical-align: middle;'></progress>\n",
              "      100.00% [105070592/105067061 00:02&lt;00:00]\n",
              "    </div>\n",
              "    "
            ]
          },
          "metadata": {}
        }
      ]
    },
    {
      "cell_type": "code",
      "source": [
        "#language model location\n",
        "!ls /root/.fastai/models/wt103-fwd"
      ],
      "metadata": {
        "colab": {
          "base_uri": "https://localhost:8080/"
        },
        "id": "DT-1sS3UCajV",
        "outputId": "601f0a5c-c700-4e18-e76a-1b95484dac73"
      },
      "execution_count": 14,
      "outputs": [
        {
          "output_type": "stream",
          "name": "stdout",
          "text": [
            "itos_wt103.pkl\tlstm_fwd.pth\n"
          ]
        }
      ]
    },
    {
      "cell_type": "code",
      "source": [
        "#fine tune pre-trained model only 1 epoch in the interest of time\n",
        "learn.fine_tune(1, 1e-2)"
      ],
      "metadata": {
        "colab": {
          "base_uri": "https://localhost:8080/",
          "height": 145
        },
        "id": "3DVzVLnH_J2j",
        "outputId": "6afee71b-ce11-4b1e-e9b3-00f4124b3ef9"
      },
      "execution_count": 15,
      "outputs": [
        {
          "output_type": "display_data",
          "data": {
            "text/plain": [
              "<IPython.core.display.HTML object>"
            ],
            "text/html": [
              "\n",
              "<style>\n",
              "    /* Turns off some styling */\n",
              "    progress {\n",
              "        /* gets rid of default border in Firefox and Opera. */\n",
              "        border: none;\n",
              "        /* Needs to be in here for Safari polyfill so background images work as expected. */\n",
              "        background-size: auto;\n",
              "    }\n",
              "    progress:not([value]), progress:not([value])::-webkit-progress-bar {\n",
              "        background: repeating-linear-gradient(45deg, #7e7e7e, #7e7e7e 10px, #5c5c5c 10px, #5c5c5c 20px);\n",
              "    }\n",
              "    .progress-bar-interrupted, .progress-bar-interrupted::-webkit-progress-bar {\n",
              "        background: #F44336;\n",
              "    }\n",
              "</style>\n"
            ]
          },
          "metadata": {}
        },
        {
          "output_type": "display_data",
          "data": {
            "text/plain": [
              "<IPython.core.display.HTML object>"
            ],
            "text/html": [
              "<table border=\"1\" class=\"dataframe\">\n",
              "  <thead>\n",
              "    <tr style=\"text-align: left;\">\n",
              "      <th>epoch</th>\n",
              "      <th>train_loss</th>\n",
              "      <th>valid_loss</th>\n",
              "      <th>accuracy</th>\n",
              "      <th>time</th>\n",
              "    </tr>\n",
              "  </thead>\n",
              "  <tbody>\n",
              "    <tr>\n",
              "      <td>0</td>\n",
              "      <td>0.455680</td>\n",
              "      <td>0.389491</td>\n",
              "      <td>0.824520</td>\n",
              "      <td>02:22</td>\n",
              "    </tr>\n",
              "  </tbody>\n",
              "</table>"
            ]
          },
          "metadata": {}
        },
        {
          "output_type": "display_data",
          "data": {
            "text/plain": [
              "<IPython.core.display.HTML object>"
            ],
            "text/html": [
              "\n",
              "<style>\n",
              "    /* Turns off some styling */\n",
              "    progress {\n",
              "        /* gets rid of default border in Firefox and Opera. */\n",
              "        border: none;\n",
              "        /* Needs to be in here for Safari polyfill so background images work as expected. */\n",
              "        background-size: auto;\n",
              "    }\n",
              "    progress:not([value]), progress:not([value])::-webkit-progress-bar {\n",
              "        background: repeating-linear-gradient(45deg, #7e7e7e, #7e7e7e 10px, #5c5c5c 10px, #5c5c5c 20px);\n",
              "    }\n",
              "    .progress-bar-interrupted, .progress-bar-interrupted::-webkit-progress-bar {\n",
              "        background: #F44336;\n",
              "    }\n",
              "</style>\n"
            ]
          },
          "metadata": {}
        },
        {
          "output_type": "display_data",
          "data": {
            "text/plain": [
              "<IPython.core.display.HTML object>"
            ],
            "text/html": [
              "<table border=\"1\" class=\"dataframe\">\n",
              "  <thead>\n",
              "    <tr style=\"text-align: left;\">\n",
              "      <th>epoch</th>\n",
              "      <th>train_loss</th>\n",
              "      <th>valid_loss</th>\n",
              "      <th>accuracy</th>\n",
              "      <th>time</th>\n",
              "    </tr>\n",
              "  </thead>\n",
              "  <tbody>\n",
              "    <tr>\n",
              "      <td>0</td>\n",
              "      <td>0.279893</td>\n",
              "      <td>0.229843</td>\n",
              "      <td>0.908480</td>\n",
              "      <td>04:11</td>\n",
              "    </tr>\n",
              "  </tbody>\n",
              "</table>"
            ]
          },
          "metadata": {}
        }
      ]
    },
    {
      "cell_type": "code",
      "source": [
        "learn.show_results()"
      ],
      "metadata": {
        "colab": {
          "base_uri": "https://localhost:8080/",
          "height": 644
        },
        "id": "cpabEfvVFRVj",
        "outputId": "941002f0-014b-4d32-cf46-a503a5e45ec4"
      },
      "execution_count": 16,
      "outputs": [
        {
          "output_type": "display_data",
          "data": {
            "text/plain": [
              "<IPython.core.display.HTML object>"
            ],
            "text/html": [
              "\n",
              "<style>\n",
              "    /* Turns off some styling */\n",
              "    progress {\n",
              "        /* gets rid of default border in Firefox and Opera. */\n",
              "        border: none;\n",
              "        /* Needs to be in here for Safari polyfill so background images work as expected. */\n",
              "        background-size: auto;\n",
              "    }\n",
              "    progress:not([value]), progress:not([value])::-webkit-progress-bar {\n",
              "        background: repeating-linear-gradient(45deg, #7e7e7e, #7e7e7e 10px, #5c5c5c 10px, #5c5c5c 20px);\n",
              "    }\n",
              "    .progress-bar-interrupted, .progress-bar-interrupted::-webkit-progress-bar {\n",
              "        background: #F44336;\n",
              "    }\n",
              "</style>\n"
            ]
          },
          "metadata": {}
        },
        {
          "output_type": "display_data",
          "data": {
            "text/plain": [
              "<IPython.core.display.HTML object>"
            ],
            "text/html": [
              ""
            ]
          },
          "metadata": {}
        },
        {
          "output_type": "display_data",
          "data": {
            "text/plain": [
              "<IPython.core.display.HTML object>"
            ],
            "text/html": [
              "<table border=\"1\" class=\"dataframe\">\n",
              "  <thead>\n",
              "    <tr style=\"text-align: right;\">\n",
              "      <th></th>\n",
              "      <th>text</th>\n",
              "      <th>category</th>\n",
              "      <th>category_</th>\n",
              "    </tr>\n",
              "  </thead>\n",
              "  <tbody>\n",
              "    <tr>\n",
              "      <th>0</th>\n",
              "      <td>xxbos xxmaj there 's a sign on xxmaj the xxmaj lost xxmaj highway that says : \\n\\n * major xxup spoilers xxup ahead * \\n\\n ( but you already knew that , did n't you ? ) \\n\\n xxmaj since there 's a great deal of people that apparently did not get the point of this movie , xxmaj i 'd like to contribute my interpretation of why the plot makes perfect sense . xxmaj as others have pointed out , one single viewing of this movie is not sufficient . xxmaj if you have the xxup dvd of xxup md , you can \" cheat \" by looking at xxmaj david xxmaj lynch 's \" top 10 xxmaj hints to xxmaj unlocking xxup md \" ( but only upon second or third viewing , please . ) ;) \\n\\n xxmaj first of all , xxmaj mulholland xxmaj drive is</td>\n",
              "      <td>pos</td>\n",
              "      <td>pos</td>\n",
              "    </tr>\n",
              "    <tr>\n",
              "      <th>1</th>\n",
              "      <td>xxbos xxmaj if anyone ever assembles a compendium on modern xxmaj american horror that is truly worth it 's salt , there will * have * to be an entry for xxup sf xxmaj brownrigg 's xxunk xxunk in xxmaj asylum xxmaj horror . xxmaj every time i watch this movie i am impressed by the complete economy of the film , from the compact , totally self - contained plot with a puzzling beginning and an all too horrible ending , the engaging performances by what was essentially a group of non - professional actors , and a xxunk sense of dread and claustrophobia that effectively consumes the xxunk with a certain inevitability which is all the more terrifying because the viewers know what is going on long before the xxunk ] , with the only question being when are they going to wake up &amp; smell the coffee</td>\n",
              "      <td>pos</td>\n",
              "      <td>pos</td>\n",
              "    </tr>\n",
              "    <tr>\n",
              "      <th>2</th>\n",
              "      <td>xxbos xxmaj years ago , when xxup darling xxup lili played on xxup tv , it was always the pan and scan version , which i hated and decided to wait and see the film in its proper widescreen format . xxmaj so when i saw an inexpensive xxup dvd of this xxmaj julie xxmaj andrews / xxmaj blake xxmaj edwards opus , i decided to purchase and watch it once and for all . \\n\\n xxmaj boy , what a terrible film . xxmaj it 's so bad and on so many levels that i really do not know where to start in describing where and when it goes so horribly wrong . xxmaj looking at it now , it 's obvious to any fans of movies that xxmaj blake xxmaj edwards created this star vehicle for his wife simply because so many other directors had struck gold with</td>\n",
              "      <td>neg</td>\n",
              "      <td>neg</td>\n",
              "    </tr>\n",
              "    <tr>\n",
              "      <th>3</th>\n",
              "      <td>xxbos xxmaj if you 've seen the trailer for this movie , you pretty much know what to expect , because what you see here is what you get . xxmaj and even if you have n't seen the previews , it wo n't take you long to pick up on what you 're in for-- specifically , a good time and plenty of xxunk from this clever satire of ` reality xxup tv ' shows and ` buddy xxmaj cop ' movies , ` showtime , ' directed by xxmaj tom xxmaj dey , starring xxmaj robert xxmaj de xxmaj niro and xxmaj eddie xxmaj murphy . \\n\\n\\t xxmaj mitch xxmaj preston ( de xxmaj niro ) is a detective with the xxup l.a.p.d . , and he 's good at what he does ; but working a case one night , things suddenly go south when another cop</td>\n",
              "      <td>pos</td>\n",
              "      <td>pos</td>\n",
              "    </tr>\n",
              "    <tr>\n",
              "      <th>4</th>\n",
              "      <td>xxbos \" oh , you pilots are such men . \" \" they do n't call it the cockpit for nothing , honey . \" xxmaj dialogue like that is just one of many reasons why xxmaj the xxmaj concorde ▁ xxmaj airport ' 79 ( or , if you saw it in the xxup uk where it dragged its heels getting released there , xxmaj airport ' 80 : xxmaj the xxmaj concorde ) was the last and by far the least of the series . xxmaj the disaster movie was in dire straits in the xxunk , what with xxmaj the xxmaj swarm having offered much unintentional hilarity and xxmaj beyond the xxmaj poseidon xxmaj adventure , xxmaj when xxmaj time xxmaj ran xxmaj out and xxmaj city on xxmaj fire simply offering much boredom , and the desperation to find a new spin on the genre is</td>\n",
              "      <td>neg</td>\n",
              "      <td>neg</td>\n",
              "    </tr>\n",
              "    <tr>\n",
              "      <th>5</th>\n",
              "      <td>xxbos i saw this on sale - xxup new - at my local store for $ 6 and said \" hey ! an action film with that guy from xxmaj bloodsport and xxmaj enter the xxmaj dragon , directed by the guy who did xxmaj enter the xxmaj dragon - and it 's cheap ! \" xxmaj so i bought it . xxmaj oops ! xxmaj this is possibly the worst film xxmaj i 've ever seen , and xxmaj i 've seen some doozies . \\n\\n xxmaj you know how movies which are intentionally campy , like xxmaj evil xxmaj dead xxup ii and dead - alive , are xxup awesome ? xxmaj you know how movies that are supposed to be serious but turned out so awful that you have to laugh out loud , and watch them again , like xxmaj lionheart ( an old xxmaj van</td>\n",
              "      <td>neg</td>\n",
              "      <td>neg</td>\n",
              "    </tr>\n",
              "    <tr>\n",
              "      <th>6</th>\n",
              "      <td>xxbos ( caution : several spoilers ) \\n\\n xxmaj someday , somewhere , there 's going to be a post - apocalyptic movie made that does n't stink . xxmaj unfortunately , xxup the xxup postman is not that movie , though i have to give it credit for trying . \\n\\n xxmaj kevin xxmaj costner plays somebody credited only as \" the xxmaj postman . \" xxmaj he 's not actually a postman , just a wanderer with a mule in the wasteland of a western xxmaj america devastated by some unspecified catastrophe . xxmaj he trades with isolated villages by performing xxmaj shakespeare . xxmaj suddenly a pack of bandits called the xxmaj holnists , the self - declared warlords of the xxmaj west , descend upon a village that xxmaj costner 's visiting , and their evil leader xxmaj gen . xxmaj bethlehem ( will xxmaj patton</td>\n",
              "      <td>neg</td>\n",
              "      <td>neg</td>\n",
              "    </tr>\n",
              "    <tr>\n",
              "      <th>7</th>\n",
              "      <td>xxbos xxmaj in a style reminiscent of the best of xxmaj david xxmaj lean , this romantic love story sweeps across the screen with epic proportions equal to the vast desert regions against which it is set . xxmaj it 's a film which purports that one does not choose love , but rather that it 's love that does the choosing , regardless of who , where or when ; and furthermore , that it 's a matter of the heart often contingent upon prevailing conditions and circumstances . xxmaj and thus is the situation in ` the xxmaj english xxmaj patient , ' directed by xxmaj anthony xxmaj minghella , the story of two people who discover passion and true love in the most inopportune of places and times , proving that when it is predestined , love will find a way . \\n\\n xxmaj it 's xxup</td>\n",
              "      <td>pos</td>\n",
              "      <td>pos</td>\n",
              "    </tr>\n",
              "    <tr>\n",
              "      <th>8</th>\n",
              "      <td>xxbos xxmaj no one is going to mistake xxup the xxup squall for a good movie , but it sure is a memorable one . xxmaj once you 've taken in xxmaj myrna xxmaj loy 's performance as xxmaj nubi the hot - blooded gypsy girl you 're not likely to forget the experience . xxmaj when this film was made the exotically beautiful xxmaj miss xxmaj loy was still being cast as foreign vixens , often xxmaj asian and usually sinister . xxmaj she 's certainly an eyeful here . xxmaj it appears that her skin was darkened and her hair was curled . xxmaj in most scenes she 's barefoot and wearing little more than a skirt and a loose - fitting peasant blouse , while in one scene she wears nothing but a patterned towel . i suppose xxmaj i 'm focusing on xxmaj miss xxmaj loy</td>\n",
              "      <td>neg</td>\n",
              "      <td>neg</td>\n",
              "    </tr>\n",
              "  </tbody>\n",
              "</table>"
            ]
          },
          "metadata": {}
        }
      ]
    },
    {
      "cell_type": "code",
      "source": [
        ""
      ],
      "metadata": {
        "id": "G4Ve03mdG-EF"
      },
      "execution_count": null,
      "outputs": []
    }
  ]
}