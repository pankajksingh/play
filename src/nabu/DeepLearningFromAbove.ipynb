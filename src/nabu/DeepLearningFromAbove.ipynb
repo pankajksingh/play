{
 "cells": [
  {
   "cell_type": "markdown",
   "id": "719ed381-b98d-46e4-b106-4814f5f396e6",
   "metadata": {},
   "source": [
    "# Deep Learning From Above\n",
    "**Get Intution of deep learning via Linear Regression**\n",
    "\n",
    "**Sections**\n",
    "* Function Definition\n",
    "* Function Application\n",
    "* Neural Network as a function - Concepts\n",
    "* Neural Network - PyTorch Implementation\n"
   ]
  },
  {
   "cell_type": "code",
   "execution_count": 29,
   "id": "b720774b-dc2c-4f76-b7fa-dbf6c1e32f9c",
   "metadata": {},
   "outputs": [],
   "source": [
    "import matplotlib.pyplot as plt\n",
    "import numpy as np\n",
    "import os\n",
    "import pandas as pd\n",
    "import random"
   ]
  },
  {
   "cell_type": "code",
   "execution_count": 30,
   "id": "c72a0cac-ea2b-4ead-bd23-bc7d2ab7d989",
   "metadata": {},
   "outputs": [],
   "source": [
    "import torch\n",
    "from torch.autograd import Variable"
   ]
  },
  {
   "cell_type": "code",
   "execution_count": 31,
   "id": "f03d8179-5ba8-42a9-9b40-5b4a84013d62",
   "metadata": {},
   "outputs": [],
   "source": [
    "%matplotlib inline "
   ]
  },
  {
   "cell_type": "markdown",
   "id": "89ee83f0-3596-432a-ae7b-14a11b15d642",
   "metadata": {},
   "source": [
    "## Function Definition\n",
    "There are 2 ways to characterize a function.\n",
    "* **Function Schema** : Input and Output\n",
    "* **Function Body** : Logic of how input is translated into output"
   ]
  },
  {
   "cell_type": "code",
   "execution_count": 32,
   "id": "665e5084-1985-4040-8273-c1e02cacbf66",
   "metadata": {},
   "outputs": [
    {
     "data": {
      "text/plain": [
       "<matplotlib.collections.PathCollection at 0x1905aa07d30>"
      ]
     },
     "execution_count": 32,
     "metadata": {},
     "output_type": "execute_result"
    },
    {
     "data": {
      "image/png": "[encoded data removed]",
      "text/plain": [
       "<Figure size 432x288 with 1 Axes>"
      ]
     },
     "metadata": {
      "needs_background": "light"
     },
     "output_type": "display_data"
    }
   ],
   "source": [
    "#Set hyperparameters for generating x,y data in 2D plane\n",
    "beta=10\n",
    "n=50\n",
    "std_dev=100\n",
    "\n",
    "#Generate sample 2D data \n",
    "x = np.random.rand(n) * 100\n",
    "e = np.random.randn(n) * std_dev\n",
    "y = x * beta + e\n",
    "\n",
    "# plot 2D data\n",
    "plt.xlabel('x')\n",
    "plt.ylabel('y')\n",
    "plt.title('radomly generated 2d points')\n",
    "plt.scatter(x, y)"
   ]
  },
  {
   "cell_type": "code",
   "execution_count": 33,
   "id": "45227639-c9a8-4fc0-a24a-4087fd2f414b",
   "metadata": {},
   "outputs": [
    {
     "data": {
      "text/html": [
       "<div>\n",
       "<style scoped>\n",
       "    .dataframe tbody tr th:only-of-type {\n",
       "        vertical-align: middle;\n",
       "    }\n",
       "\n",
       "    .dataframe tbody tr th {\n",
       "        vertical-align: top;\n",
       "    }\n",
       "\n",
       "    .dataframe thead th {\n",
       "        text-align: right;\n",
       "    }\n",
       "</style>\n",
       "<table border=\"1\" class=\"dataframe\">\n",
       "  <thead>\n",
       "    <tr style=\"text-align: right;\">\n",
       "      <th></th>\n",
       "      <th>x</th>\n",
       "      <th>y</th>\n",
       "    </tr>\n",
       "  </thead>\n",
       "  <tbody>\n",
       "    <tr>\n",
       "      <th>0</th>\n",
       "      <td>30.478129</td>\n",
       "      <td>274.478112</td>\n",
       "    </tr>\n",
       "    <tr>\n",
       "      <th>1</th>\n",
       "      <td>41.392538</td>\n",
       "      <td>266.674083</td>\n",
       "    </tr>\n",
       "    <tr>\n",
       "      <th>2</th>\n",
       "      <td>88.864637</td>\n",
       "      <td>916.567755</td>\n",
       "    </tr>\n",
       "    <tr>\n",
       "      <th>3</th>\n",
       "      <td>95.889187</td>\n",
       "      <td>842.686343</td>\n",
       "    </tr>\n",
       "    <tr>\n",
       "      <th>4</th>\n",
       "      <td>6.787636</td>\n",
       "      <td>117.417359</td>\n",
       "    </tr>\n",
       "  </tbody>\n",
       "</table>\n",
       "</div>"
      ],
      "text/plain": [
       "           x           y\n",
       "0  30.478129  274.478112\n",
       "1  41.392538  266.674083\n",
       "2  88.864637  916.567755\n",
       "3  95.889187  842.686343\n",
       "4   6.787636  117.417359"
      ]
     },
     "execution_count": 33,
     "metadata": {},
     "output_type": "execute_result"
    }
   ],
   "source": [
    "#Function schema (input, output)\n",
    "list_xy = list(zip(x, y)) \n",
    "df_xy = pd.DataFrame(list_xy, columns = ['x', 'y'])  \n",
    "df_xy.head()"
   ]
  },
  {
   "cell_type": "code",
   "execution_count": 34,
   "id": "e05642dc-ca61-4e4a-890a-b34901808308",
   "metadata": {},
   "outputs": [],
   "source": [
    "#Function body : Train using data\n",
    "def learn_weight(x, y):\n",
    "    X_mat=np.vstack((np.ones(len(x)), x)).T\n",
    "    Y=y\n",
    "    \n",
    "    #calculate coefficients for the best fit line\n",
    "    w_hat = np.linalg.inv(X_mat.T.dot(X_mat)).dot(X_mat.T).dot(Y)\n",
    "    \n",
    "    return w_hat\n",
    "\n",
    "#Function body : Infer using learnt model\n",
    "def infer_y(x, w_hat):\n",
    "    X_mat=np.vstack((np.ones(len(x)), x)).T\n",
    "    y_hat = X_mat.dot(w_hat)\n",
    "    \n",
    "    return y_hat"
   ]
  },
  {
   "cell_type": "code",
   "execution_count": 35,
   "id": "d0241ee5-4dba-4493-a61b-6bf48d57b792",
   "metadata": {},
   "outputs": [
    {
     "data": {
      "text/plain": [
       "[<matplotlib.lines.Line2D at 0x19060aa7910>]"
      ]
     },
     "execution_count": 35,
     "metadata": {},
     "output_type": "execute_result"
    },
    {
     "data": {
      "image/png": "[encoded data removed]",
      "text/plain": [
       "<Figure size 432x288 with 1 Axes>"
      ]
     },
     "metadata": {
      "needs_background": "light"
     },
     "output_type": "display_data"
    }
   ],
   "source": [
    "#Compare data and function approximating it\n",
    "w_hat = learn_weight(x, y)\n",
    "y_hat = infer_y(x, w_hat)\n",
    "\n",
    "# plot data and predictions\n",
    "plt.xlabel('x')\n",
    "plt.ylabel('y')\n",
    "plt.title('Best fit line for sample 2d points')\n",
    "plt.scatter(x, y)\n",
    "plt.plot(x, y_hat, color='red')"
   ]
  },
  {
   "cell_type": "code",
   "execution_count": 36,
   "id": "0c5b2daa-7062-4b2f-9e31-b55230a8a394",
   "metadata": {},
   "outputs": [
    {
     "data": {
      "text/plain": [
       "array([ 6.09552814, 10.08391003])"
      ]
     },
     "execution_count": 36,
     "metadata": {},
     "output_type": "execute_result"
    }
   ],
   "source": [
    "#print learned parameters(aka coefficients of the line)\n",
    "w_hat"
   ]
  },
  {
   "cell_type": "code",
   "execution_count": 37,
   "id": "ba629e83-4677-4e1e-9bfd-42be57176fbb",
   "metadata": {},
   "outputs": [
    {
     "data": {
      "text/plain": [
       "9659.478700327321"
      ]
     },
     "execution_count": 37,
     "metadata": {},
     "output_type": "execute_result"
    }
   ],
   "source": [
    "#Loss after applying linear algebra formula for best fit\n",
    "#This loss is called MSE (mean square error loss)\n",
    "loss_linalg = np.square(np.subtract(y,y_hat)).mean()\n",
    "loss_linalg"
   ]
  },
  {
   "cell_type": "markdown",
   "id": "6bb89156-1f4c-4c6c-b96a-2e6405f5d05c",
   "metadata": {},
   "source": [
    "## Function Application\n",
    "Given data with labels(i.e. x and y values), we would like to approximate a function f(x) which is very close to y\n",
    "\n",
    "|Scenario|Data=(x,y)|Function f s.t. y=f(x)|\n",
    "|---|---|---|\n",
    "| Best fit line| 2D points(x,y)  | y=f(x)  |\n",
    "| Image classification | pixels representing picture  | image-class = f(image)   |\n",
    "| Audio2Text  | wave representing utterances  | words = f(audio-wave)  |\n",
    "| Translation  | sentences in multiple languages  | french-sentence = f(english-sentence)  |\n",
    "\n",
    "Function is a very general concept and ability to write an aribtrary function can help solve various problems.  "
   ]
  },
  {
   "cell_type": "markdown",
   "id": "c9fda693-ea2e-4067-bed6-8c3d06f8e841",
   "metadata": {},
   "source": [
    "## Neural Network - Concepts\n",
    "We are looking for a machine that can generate functions given dataset representing x and y.\n",
    "[Universal Approximation Theorem](https://medium.com/analytics-vidhya/you-dont-understand-neural-networks-until-you-understand-the-universal-approximation-theorem-85b3e7677126) gives us re-assurance that such a machine exists in our midst.\n",
    ">_It states that a neural network with one hidden layer containing a sufficient but finite number of neurons can approximate any continuous function to a reasonable accuracy, under certain conditions for activation functions (namely, that they must be sigmoid-like)._\n",
    "\n",
    "**Neural Network** is composed of stack of artificial neurons which transform an input x into output y. In essensce, it is a function composed of other functions.\n",
    "* x is passed as input\n",
    "* $\\hat{y}$  is obtained as output\n",
    "* y is the target output. Gap between y & $\\hat{y}$ defines model quality. This gap is measured as loss.\n",
    "* All layers between input and output layers are called hidden. If number of intermediary hidden layers are large, we call the network deep."
   ]
  },
  {
   "cell_type": "markdown",
   "id": "e7a28ad6-5535-418c-bbca-097fc86158c5",
   "metadata": {},
   "source": [
    "**Artificial Neuron**\n",
    "<img src=\"images\\BioNeuron.png\" />\n",
    "\n",
    "<br />\n",
    "<br />\n",
    "\n",
    "**Artificial Neural Network**\n",
    "<img src=\"images\\NeuralNetwork.png\" />"
   ]
  },
  {
   "cell_type": "markdown",
   "id": "0a09d2ee-c50d-4fdb-853e-4f444c7e627b",
   "metadata": {},
   "source": [
    "### Terminology \n",
    "* **Data** : (x,y) x is input vector, y is label or output vector. e.g. 2D points.\n",
    "* **Batch** : Subset of data that is processed in one pass through the network. \n",
    "* $\\hat{y}$ : Approximating function that gets us close to y given x. Also referred as f(x) or f(w,x) where w is to be learnt. e.g red line in linear regression.\n",
    "* **Weights** : Values of parameters learnt by the network represented by w. e.g. coefficients of best fit line.\n",
    "* **Loss** : A function defined over the batch data that measures how far are we from the labels, a measure of _y-$\\hat{y}$_. So this is function over approximating function f(x). e.g. summation of sqaure loss over all 2D points.\n",
    "* **Forward pass** : Process of taking a batch of data(x) and tansforming it forward in the neural network such that we get y as output after the forward pass.\n",
    "* **Backprop** : Process of adjusting weights by using the gradient of loss function to come up with better weights.\n",
    "* **Optimizer** : Process that assists us to quickly find optimal values of weight so as to minimize loss. This relies on back-propagation.\n",
    "* **Criterion** : A human readable measure of model quality. Criterion:Human = Loss: NeuralNetwork"
   ]
  },
  {
   "cell_type": "markdown",
   "id": "98896511-ba9d-41d3-acfc-c46455073390",
   "metadata": {},
   "source": [
    "### Development Loops\n",
    "> We run development loop to come up with the desired approximating function given data. There are 2 loops, inner and outer\n",
    "> * **Inner**:\n",
    "> Take a step closer towards desired function by processing a subset of data. This is one pass through the neural network.\n",
    ">* **Outer**\n",
    "> Take a step closer towards desired function by processing all available data. We say that 1 epoch has elapsed.\n",
    "\n",
    "Steps in development loop:\n",
    "* Split data into 3 parts : train, validate, test\n",
    "* For each epoch, build model(aka approximate function) using training data. Then use validate to see the quality of model. Rinse, Repeat.\n",
    "* Finally, run prediction against test data to see how good the model generalizes\n",
    "\n",
    "Development loops are part of a bigger *machine learning model life-cycle*."
   ]
  },
  {
   "cell_type": "markdown",
   "id": "25d9609b-fddb-47bc-b1c8-096308f2c7f8",
   "metadata": {},
   "source": [
    "***\n",
    "$\\mathbf{\\text{Learning objective}}$<br/>\n",
    "***\n",
    "\\begin{align}\n",
    "w^{*} = \\underset{w}{\\textrm{arg min}} \\; L(y,\\hat{y}) \\\\\n",
    "w^{*} = \\underset{w}{\\textrm{arg min}} \\; L(y,f(w,x))\n",
    "\\end{align}\n",
    "\n",
    "***\n",
    "$\\mathbf{\\text{Back Prop}}$<br/>\n",
    "***\n",
    "1.&emsp;Initialize model with random weights $$w = w_{0}$$\n",
    "2. For m = 1 to epochs:<br>\n",
    "(a)&emsp;Run forward pass by estimating output given current weights $$\\hat{y} = f(x,w)$$ \n",
    "(b)&emsp;Calculate loss based on the difference between estimated and real outputs. b is batch size. Square loss is an example of simple loss function. $$ L = \\sum \\limits_{j=1}^b (y-\\hat{y})^2 $$ \n",
    "(c)&emsp;Calculate loss gradient with respect to weight and use it to update the weight parameter. Alpha is step size or learning rate. $$ w = w - \\nabla_{w} L * \\alpha $$\n",
    "(d)&emsp;Stop when Loss is very small or when patience runs out\n"
   ]
  },
  {
   "cell_type": "markdown",
   "id": "a8adb4ef-e938-44ac-8957-af7d2093431b",
   "metadata": {},
   "source": [
    "## Neural Network - PyTorch Implementation"
   ]
  },
  {
   "cell_type": "markdown",
   "id": "debed5f3-b16d-45a6-b66c-f34fd993cf62",
   "metadata": {},
   "source": [
    "![PyTorch](images/PyTorch.jpg)\n",
    "\n",
    "### PyTorch : Machine Learning Framework\n",
    "* **Computational Graph** to represent neural network. This gives us ability to backprop using diffrentiation.\n",
    "* **Hardware Acceleration** using GPU & TPU for efficient computation on realistic problems. This is achieved through **CUDA** ( Compute Unified Device Architecture) , a parallel computing platform and application programming interface."
   ]
  },
  {
   "cell_type": "markdown",
   "id": "08386e9c-cde7-4807-a9cf-3ae7535fffb9",
   "metadata": {},
   "source": [
    "### Implementation Steps\n",
    "* Reshape Data\n",
    "* Build neural network using Pytorch's nn module\n",
    "* Run training loop & build model\n",
    "* Model visualization"
   ]
  },
  {
   "cell_type": "code",
   "execution_count": 38,
   "id": "af419488-e001-413a-b35f-d6b804b78413",
   "metadata": {},
   "outputs": [
    {
     "name": "stdout",
     "output_type": "stream",
     "text": [
      "Total rows for x : 50, columns :  1\n",
      "Total rows for y : 50, columns :  1\n"
     ]
    }
   ],
   "source": [
    "#Reshape data so that it is suitable for training\n",
    "x_train = np.array(x, dtype=np.float32)\n",
    "x_train = x_train.reshape(-1, 1)\n",
    "\n",
    "y_train = np.array(y, dtype=np.float32)\n",
    "y_train = y_train.reshape(-1, 1)\n",
    "\n",
    "print(\"Total rows for x :%3d, columns : %2d\" % x_train.shape)\n",
    "print(\"Total rows for y :%3d, columns : %2d\" % y_train.shape)"
   ]
  },
  {
   "cell_type": "code",
   "execution_count": 39,
   "id": "9786739c-66c9-4a77-95bb-d56e15315224",
   "metadata": {},
   "outputs": [
    {
     "data": {
      "text/plain": [
       "(array([[30.478128],\n",
       "        [41.39254 ],\n",
       "        [88.86464 ],\n",
       "        [95.88918 ],\n",
       "        [ 6.787636]], dtype=float32),\n",
       " array([[274.47812],\n",
       "        [266.67407],\n",
       "        [916.56775],\n",
       "        [842.68634],\n",
       "        [117.41736]], dtype=float32))"
      ]
     },
     "execution_count": 39,
     "metadata": {},
     "output_type": "execute_result"
    }
   ],
   "source": [
    "#Sample x, y training data after shaping for neural net\n",
    "x_train[0:5,],y_train[0:5,]"
   ]
  },
  {
   "cell_type": "code",
   "execution_count": 40,
   "id": "1ee75720-9a62-4c0a-9d5e-89aaf9aaf0dd",
   "metadata": {},
   "outputs": [],
   "source": [
    "#create a class for linear regression that represents neural network model\n",
    "class linearRegression(torch.nn.Module):\n",
    "    def __init__(self, inputSize, outputSize):\n",
    "        super(linearRegression, self).__init__()\n",
    "        self.linear = torch.nn.Linear(inputSize, outputSize)\n",
    "\n",
    "    def forward(self, x):\n",
    "        out = self.linear(x)\n",
    "        return out"
   ]
  },
  {
   "cell_type": "code",
   "execution_count": 41,
   "id": "b024de31-99f4-4331-a559-ed3331a853b8",
   "metadata": {},
   "outputs": [],
   "source": [
    "#create a neural network template for linear regression task, data to be fed later during training\n",
    "\n",
    "#Hyper-Parameters\n",
    "inputDim = 1        # takes variable 'x' , single neuron\n",
    "outputDim = 1       # takes variable 'y' , single neuron\n",
    "alpha = 0.5 * 1e-4  # learning-rate\n",
    "epochs = 100000     # number of iterations through the data\n",
    "\n",
    "#Model definition (no data)\n",
    "model = linearRegression(inputDim, outputDim)\n",
    "\n",
    "#Model evaluation and optimizer (no data)\n",
    "criterion = torch.nn.MSELoss() \n",
    "optimizer = torch.optim.SGD(model.parameters(), lr=alpha)"
   ]
  },
  {
   "cell_type": "code",
   "execution_count": 42,
   "id": "682f672f-8928-417b-bb9b-7dfc7deb6a6a",
   "metadata": {},
   "outputs": [
    {
     "name": "stdout",
     "output_type": "stream",
     "text": [
      "linearRegression(\n",
      "  (linear): Linear(in_features=1, out_features=1, bias=True)\n",
      ")\n"
     ]
    }
   ],
   "source": [
    "print(model)"
   ]
  },
  {
   "cell_type": "code",
   "execution_count": 43,
   "id": "9e9e5ade-8a86-4fee-90a8-5da1bcffb0cb",
   "metadata": {},
   "outputs": [
    {
     "name": "stdout",
     "output_type": "stream",
     "text": [
      "epoch 0, loss 298418.3125\n",
      "epoch 10000, loss 9663.291015625\n",
      "epoch 20000, loss 9661.8759765625\n",
      "epoch 30000, loss 9660.98828125\n",
      "epoch 40000, loss 9660.427734375\n",
      "epoch 50000, loss 9660.0751953125\n",
      "epoch 60000, loss 9659.853515625\n",
      "epoch 70000, loss 9659.71484375\n",
      "epoch 80000, loss 9659.62890625\n",
      "epoch 90000, loss 9659.572265625\n"
     ]
    }
   ],
   "source": [
    "#Loss stabilizing around the value that linear algebra got\n",
    "\n",
    "# Training loop through number of epochs \n",
    "for epoch in range(epochs):\n",
    "    \n",
    "    # Converting inputs and labels to Variable\n",
    "    inputs = Variable(torch.from_numpy(x_train))\n",
    "    labels = Variable(torch.from_numpy(y_train))\n",
    "\n",
    "    # Clear gradient buffers for each epoch\n",
    "    optimizer.zero_grad()\n",
    "\n",
    "    # get output from the model, given the inputs. This calls the forward method in the neural network class.\n",
    "    outputs = model(inputs)\n",
    "\n",
    "    # get loss for the predicted output\n",
    "    loss = criterion(outputs, labels)\n",
    "    \n",
    "    # get gradients w.r.t to parameters\n",
    "    loss.backward()\n",
    "\n",
    "    # update parameters using the gradients stored\n",
    "    optimizer.step()\n",
    "\n",
    "    # print loss periodically\n",
    "    if epoch%10000 == 0 :\n",
    "        print('epoch {}, loss {}'.format(epoch, loss.item()))"
   ]
  },
  {
   "cell_type": "code",
   "execution_count": 44,
   "id": "fa6acfa3-1e2a-4a24-bd67-f9b62619e615",
   "metadata": {},
   "outputs": [
    {
     "name": "stdout",
     "output_type": "stream",
     "text": [
      "tensor([[10.0916]])\n",
      "tensor([5.5919])\n"
     ]
    }
   ],
   "source": [
    "#print learned parameters from neural network(aka coefficients of the line)\n",
    "for param in model.parameters():\n",
    "    if param.requires_grad:\n",
    "        print(param.data)\n"
   ]
  },
  {
   "cell_type": "code",
   "execution_count": 45,
   "id": "5420d42e-6316-4c17-8bfa-5aa58783d789",
   "metadata": {},
   "outputs": [
    {
     "data": {
      "image/png": "[encoded data removed]",
      "text/plain": [
       "<Figure size 432x288 with 1 Axes>"
      ]
     },
     "metadata": {
      "needs_background": "light"
     },
     "output_type": "display_data"
    }
   ],
   "source": [
    "#Model evaluation visually\n",
    "#No need of gradients in the testing phase\n",
    "with torch.no_grad(): \n",
    "    inputs = Variable(torch.from_numpy(x_train))\n",
    "    predicted = model(inputs).data.numpy()\n",
    "\n",
    "plt.clf()\n",
    "plt.plot(x_train, y_train, 'go', label='True data', alpha=0.5)\n",
    "plt.plot(x_train, predicted, '--', label='Neural Net Predictions', alpha=0.5)\n",
    "plt.legend(loc='best')\n",
    "plt.show()"
   ]
  },
  {
   "cell_type": "markdown",
   "id": "c5cb455c-71da-4961-828a-2bdd467290c4",
   "metadata": {},
   "source": [
    "## Summary\n",
    "* Deep Learning gives us a generic way to write arbitrary function given inputs(x) & labels(y). This is a very general machine and has proven itself in perception tasks.\n",
    "* Deep Learning machinery is based on real numbers.\n",
    "    * Need a way to translate input & output in numbers. For linear regression, this was not a problem but for language translation we need to tackle this.\n",
    "    * Need a notion of model quality that is diffrentiable. We call it Loss."
   ]
  },
  {
   "cell_type": "code",
   "execution_count": null,
   "id": "ed67e8f6-6ee0-4615-942c-c8319932da68",
   "metadata": {},
   "outputs": [],
   "source": []
  }
 ],
 "metadata": {
  "kernelspec": {
   "display_name": "nabu",
   "language": "python",
   "name": "nabu"
  },
  "language_info": {
   "codemirror_mode": {
    "name": "ipython",
    "version": 3
   },
   "file_extension": ".py",
   "mimetype": "text/x-python",
   "name": "python",
   "nbconvert_exporter": "python",
   "pygments_lexer": "ipython3",
   "version": "3.9.12"
  }
 },
 "nbformat": 4,
 "nbformat_minor": 5
}
